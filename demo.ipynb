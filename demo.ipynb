{
 "cells": [
  {
   "cell_type": "markdown",
   "metadata": {},
   "source": [
    "# Demo Assignement\n",
    "## Prerequisite\n",
    "1.Install Ollama from [Ollama Link](https://ollama.com/)\n",
    "\n",
    "2.Pull model on your terminal/shell/CMD by command below\n",
    "\n",
    "<code>\n",
    "ollama pull llama3.2\n",
    "</code>\n",
    "\n",
    "3.Install python dependency \n",
    "\n",
    "<code>\n",
    "pip install -r requirements.txt\n",
    "</code>\n",
    "\n",
    "**4. Before run demo. Need to run assignment.ipynb until RAG Section to create vector store**"
   ]
  },
  {
   "cell_type": "code",
   "execution_count": 1,
   "metadata": {},
   "outputs": [],
   "source": [
    "from llama_index.core import Settings\n",
    "from llama_index.llms.ollama import Ollama\n",
    "from llama_index.embeddings.huggingface import HuggingFaceEmbedding\n",
    "\n",
    "# You can change embed model and llm model\n",
    "embed_name = \"BAAI/bge-m3\"\n",
    "llm_name = \"llama3.2\"\n",
    "\n",
    "embed_model = HuggingFaceEmbedding(model_name= embed_name)\n",
    "llm = Ollama(model=llm_name, request_timeout=3600.0)\n",
    "\n",
    "Settings.llm = llm\n",
    "Settings.embed_model = embed_model"
   ]
  },
  {
   "cell_type": "code",
   "execution_count": 2,
   "metadata": {},
   "outputs": [],
   "source": [
    "import chromadb\n",
    "from llama_index.core import VectorStoreIndex\n",
    "from llama_index.vector_stores.chroma import ChromaVectorStore\n",
    "\n",
    "path_to_vector_db = \"./vector_db\"\n",
    "collection_name = \"qa_vector_store\"\n",
    "\n",
    "db = chromadb.PersistentClient(path=path_to_vector_db)\n",
    "chroma_collection = db.get_or_create_collection(collection_name)\n",
    "vector_store = ChromaVectorStore(chroma_collection=chroma_collection)\n",
    "index = VectorStoreIndex.from_vector_store(vector_store=vector_store)"
   ]
  },
  {
   "cell_type": "code",
   "execution_count": 3,
   "metadata": {},
   "outputs": [],
   "source": [
    "query_engine = index.as_query_engine()"
   ]
  },
  {
   "cell_type": "code",
   "execution_count": 4,
   "metadata": {},
   "outputs": [
    {
     "name": "stdout",
     "output_type": "stream",
     "text": [
      "7 ล้าน เหรียญสหรัฐ\n"
     ]
    }
   ],
   "source": [
    "ans = query_engine.query(\"wisesight ปิดดีลระดมทุน Series B ได้เท่าไร?\")\n",
    "print(ans)"
   ]
  }
 ],
 "metadata": {
  "kernelspec": {
   "display_name": "wisesight-demo",
   "language": "python",
   "name": "python3"
  },
  "language_info": {
   "codemirror_mode": {
    "name": "ipython",
    "version": 3
   },
   "file_extension": ".py",
   "mimetype": "text/x-python",
   "name": "python",
   "nbconvert_exporter": "python",
   "pygments_lexer": "ipython3",
   "version": "3.12.8"
  }
 },
 "nbformat": 4,
 "nbformat_minor": 2
}
